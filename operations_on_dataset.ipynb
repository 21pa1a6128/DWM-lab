{
  "cells": [
    {
      "cell_type": "markdown",
      "metadata": {
        "id": "view-in-github",
        "colab_type": "text"
      },
      "source": [
        "<a href=\"https://colab.research.google.com/github/21pa1a6128/DWM-lab/blob/main/operations_on_dataset.ipynb\" target=\"_parent\"><img src=\"https://colab.research.google.com/assets/colab-badge.svg\" alt=\"Open In Colab\"/></a>"
      ]
    },
    {
      "cell_type": "code",
      "execution_count": 95,
      "metadata": {
        "id": "1-P0oYnaV3vv"
      },
      "outputs": [],
      "source": [
        "import numpy as np\n",
        "import pandas as pd\n",
        "import matplotlib.pyplot as plt\n",
        "from sklearn.model_selection import train_test_split"
      ]
    },
    {
      "cell_type": "code",
      "execution_count": 3,
      "metadata": {
        "id": "eUCMTib-hy8y"
      },
      "outputs": [],
      "source": [
        "df=pd.read_csv('/content/drive/MyDrive/students_placement_data.csv')"
      ]
    },
    {
      "cell_type": "code",
      "execution_count": 4,
      "metadata": {
        "colab": {
          "base_uri": "https://localhost:8080/",
          "height": 300
        },
        "id": "umlHh7qRnKaI",
        "outputId": "8e334b4e-ed2b-4a33-e981-6fecc90cf653"
      },
      "outputs": [
        {
          "output_type": "execute_result",
          "data": {
            "text/plain": [
              "          Roll No  SSC Percentage  inter_Diploma_percentage  \\\n",
              "count  117.000000      116.000000                117.000000   \n",
              "mean    59.000000       80.153362                 80.535299   \n",
              "std     33.919021        9.462320                 11.818567   \n",
              "min      1.000000       44.000000                 40.200000   \n",
              "25%     30.000000       75.875000                 73.400000   \n",
              "50%     59.000000       82.745000                 83.600000   \n",
              "75%     88.000000       87.025000                 90.000000   \n",
              "max    117.000000       93.660000                 96.900000   \n",
              "\n",
              "       B.Tech_percentage    Backlogs  \n",
              "count         116.000000  117.000000  \n",
              "mean           62.662672    4.111111  \n",
              "std            12.591167    6.335148  \n",
              "min            21.200000    0.000000  \n",
              "25%            54.175000    0.000000  \n",
              "50%            63.885000    0.000000  \n",
              "75%            72.570000    7.000000  \n",
              "max            88.100000   25.000000  "
            ],
            "text/html": [
              "\n",
              "  <div id=\"df-888d7ea8-df2c-423c-8a01-07ca81349c4b\">\n",
              "    <div class=\"colab-df-container\">\n",
              "      <div>\n",
              "<style scoped>\n",
              "    .dataframe tbody tr th:only-of-type {\n",
              "        vertical-align: middle;\n",
              "    }\n",
              "\n",
              "    .dataframe tbody tr th {\n",
              "        vertical-align: top;\n",
              "    }\n",
              "\n",
              "    .dataframe thead th {\n",
              "        text-align: right;\n",
              "    }\n",
              "</style>\n",
              "<table border=\"1\" class=\"dataframe\">\n",
              "  <thead>\n",
              "    <tr style=\"text-align: right;\">\n",
              "      <th></th>\n",
              "      <th>Roll No</th>\n",
              "      <th>SSC Percentage</th>\n",
              "      <th>inter_Diploma_percentage</th>\n",
              "      <th>B.Tech_percentage</th>\n",
              "      <th>Backlogs</th>\n",
              "    </tr>\n",
              "  </thead>\n",
              "  <tbody>\n",
              "    <tr>\n",
              "      <th>count</th>\n",
              "      <td>117.000000</td>\n",
              "      <td>116.000000</td>\n",
              "      <td>117.000000</td>\n",
              "      <td>116.000000</td>\n",
              "      <td>117.000000</td>\n",
              "    </tr>\n",
              "    <tr>\n",
              "      <th>mean</th>\n",
              "      <td>59.000000</td>\n",
              "      <td>80.153362</td>\n",
              "      <td>80.535299</td>\n",
              "      <td>62.662672</td>\n",
              "      <td>4.111111</td>\n",
              "    </tr>\n",
              "    <tr>\n",
              "      <th>std</th>\n",
              "      <td>33.919021</td>\n",
              "      <td>9.462320</td>\n",
              "      <td>11.818567</td>\n",
              "      <td>12.591167</td>\n",
              "      <td>6.335148</td>\n",
              "    </tr>\n",
              "    <tr>\n",
              "      <th>min</th>\n",
              "      <td>1.000000</td>\n",
              "      <td>44.000000</td>\n",
              "      <td>40.200000</td>\n",
              "      <td>21.200000</td>\n",
              "      <td>0.000000</td>\n",
              "    </tr>\n",
              "    <tr>\n",
              "      <th>25%</th>\n",
              "      <td>30.000000</td>\n",
              "      <td>75.875000</td>\n",
              "      <td>73.400000</td>\n",
              "      <td>54.175000</td>\n",
              "      <td>0.000000</td>\n",
              "    </tr>\n",
              "    <tr>\n",
              "      <th>50%</th>\n",
              "      <td>59.000000</td>\n",
              "      <td>82.745000</td>\n",
              "      <td>83.600000</td>\n",
              "      <td>63.885000</td>\n",
              "      <td>0.000000</td>\n",
              "    </tr>\n",
              "    <tr>\n",
              "      <th>75%</th>\n",
              "      <td>88.000000</td>\n",
              "      <td>87.025000</td>\n",
              "      <td>90.000000</td>\n",
              "      <td>72.570000</td>\n",
              "      <td>7.000000</td>\n",
              "    </tr>\n",
              "    <tr>\n",
              "      <th>max</th>\n",
              "      <td>117.000000</td>\n",
              "      <td>93.660000</td>\n",
              "      <td>96.900000</td>\n",
              "      <td>88.100000</td>\n",
              "      <td>25.000000</td>\n",
              "    </tr>\n",
              "  </tbody>\n",
              "</table>\n",
              "</div>\n",
              "      <button class=\"colab-df-convert\" onclick=\"convertToInteractive('df-888d7ea8-df2c-423c-8a01-07ca81349c4b')\"\n",
              "              title=\"Convert this dataframe to an interactive table.\"\n",
              "              style=\"display:none;\">\n",
              "        \n",
              "  <svg xmlns=\"http://www.w3.org/2000/svg\" height=\"24px\"viewBox=\"0 0 24 24\"\n",
              "       width=\"24px\">\n",
              "    <path d=\"M0 0h24v24H0V0z\" fill=\"none\"/>\n",
              "    <path d=\"M18.56 5.44l.94 2.06.94-2.06 2.06-.94-2.06-.94-.94-2.06-.94 2.06-2.06.94zm-11 1L8.5 8.5l.94-2.06 2.06-.94-2.06-.94L8.5 2.5l-.94 2.06-2.06.94zm10 10l.94 2.06.94-2.06 2.06-.94-2.06-.94-.94-2.06-.94 2.06-2.06.94z\"/><path d=\"M17.41 7.96l-1.37-1.37c-.4-.4-.92-.59-1.43-.59-.52 0-1.04.2-1.43.59L10.3 9.45l-7.72 7.72c-.78.78-.78 2.05 0 2.83L4 21.41c.39.39.9.59 1.41.59.51 0 1.02-.2 1.41-.59l7.78-7.78 2.81-2.81c.8-.78.8-2.07 0-2.86zM5.41 20L4 18.59l7.72-7.72 1.47 1.35L5.41 20z\"/>\n",
              "  </svg>\n",
              "      </button>\n",
              "      \n",
              "  <style>\n",
              "    .colab-df-container {\n",
              "      display:flex;\n",
              "      flex-wrap:wrap;\n",
              "      gap: 12px;\n",
              "    }\n",
              "\n",
              "    .colab-df-convert {\n",
              "      background-color: #E8F0FE;\n",
              "      border: none;\n",
              "      border-radius: 50%;\n",
              "      cursor: pointer;\n",
              "      display: none;\n",
              "      fill: #1967D2;\n",
              "      height: 32px;\n",
              "      padding: 0 0 0 0;\n",
              "      width: 32px;\n",
              "    }\n",
              "\n",
              "    .colab-df-convert:hover {\n",
              "      background-color: #E2EBFA;\n",
              "      box-shadow: 0px 1px 2px rgba(60, 64, 67, 0.3), 0px 1px 3px 1px rgba(60, 64, 67, 0.15);\n",
              "      fill: #174EA6;\n",
              "    }\n",
              "\n",
              "    [theme=dark] .colab-df-convert {\n",
              "      background-color: #3B4455;\n",
              "      fill: #D2E3FC;\n",
              "    }\n",
              "\n",
              "    [theme=dark] .colab-df-convert:hover {\n",
              "      background-color: #434B5C;\n",
              "      box-shadow: 0px 1px 3px 1px rgba(0, 0, 0, 0.15);\n",
              "      filter: drop-shadow(0px 1px 2px rgba(0, 0, 0, 0.3));\n",
              "      fill: #FFFFFF;\n",
              "    }\n",
              "  </style>\n",
              "\n",
              "      <script>\n",
              "        const buttonEl =\n",
              "          document.querySelector('#df-888d7ea8-df2c-423c-8a01-07ca81349c4b button.colab-df-convert');\n",
              "        buttonEl.style.display =\n",
              "          google.colab.kernel.accessAllowed ? 'block' : 'none';\n",
              "\n",
              "        async function convertToInteractive(key) {\n",
              "          const element = document.querySelector('#df-888d7ea8-df2c-423c-8a01-07ca81349c4b');\n",
              "          const dataTable =\n",
              "            await google.colab.kernel.invokeFunction('convertToInteractive',\n",
              "                                                     [key], {});\n",
              "          if (!dataTable) return;\n",
              "\n",
              "          const docLinkHtml = 'Like what you see? Visit the ' +\n",
              "            '<a target=\"_blank\" href=https://colab.research.google.com/notebooks/data_table.ipynb>data table notebook</a>'\n",
              "            + ' to learn more about interactive tables.';\n",
              "          element.innerHTML = '';\n",
              "          dataTable['output_type'] = 'display_data';\n",
              "          await google.colab.output.renderOutput(dataTable, element);\n",
              "          const docLink = document.createElement('div');\n",
              "          docLink.innerHTML = docLinkHtml;\n",
              "          element.appendChild(docLink);\n",
              "        }\n",
              "      </script>\n",
              "    </div>\n",
              "  </div>\n",
              "  "
            ]
          },
          "metadata": {},
          "execution_count": 4
        }
      ],
      "source": [
        "#Q1 basic characteristics of the data\n",
        "df.describe()"
      ]
    },
    {
      "cell_type": "code",
      "execution_count": 5,
      "metadata": {
        "colab": {
          "base_uri": "https://localhost:8080/"
        },
        "id": "Zsppqvr7nLP3",
        "outputId": "0c047b92-6376-4e94-e832-4089f53af3e4"
      },
      "outputs": [
        {
          "output_type": "execute_result",
          "data": {
            "text/plain": [
              "Roll No                               False\n",
              "Gender                                False\n",
              "Section                               False\n",
              "SSC Percentage                         True\n",
              "inter_Diploma_percentage              False\n",
              "B.Tech_percentage                      True\n",
              "Backlogs                              False\n",
              "registered_for_ Placement_Training     True\n",
              "placement status                      False\n",
              "dtype: bool"
            ]
          },
          "metadata": {},
          "execution_count": 5
        }
      ],
      "source": [
        "# Q2 check if there is any missing value in datasdets\n",
        "df.isna().any()"
      ]
    },
    {
      "cell_type": "code",
      "execution_count": 18,
      "metadata": {
        "id": "xjSK1QE2noQY",
        "colab": {
          "base_uri": "https://localhost:8080/",
          "height": 206
        },
        "outputId": "a95b1a91-5e0e-42ac-a9a8-5bf0084f16f8"
      },
      "outputs": [
        {
          "output_type": "execute_result",
          "data": {
            "text/plain": [
              "   Roll No Gender Section  SSC Percentage  inter_Diploma_percentage  \\\n",
              "0        1      M       A            87.3                      65.3   \n",
              "1        2      F       A            89.0                      92.4   \n",
              "2        3      F       A            67.0                      40.2   \n",
              "3        4      M       A            71.0                      70.4   \n",
              "4        5      M       A            44.0                      65.5   \n",
              "\n",
              "   B.Tech_percentage  Backlogs registered_for_ Placement_Training  \\\n",
              "0          40.000000        18                                 NO   \n",
              "1          21.200000         0                                yes   \n",
              "2          62.662672        13                                yes   \n",
              "3          36.470000        17                                yes   \n",
              "4          42.520000        17                                yes   \n",
              "\n",
              "  placement status  \n",
              "0       Not placed  \n",
              "1           Placed  \n",
              "2       Not placed  \n",
              "3       Not placed  \n",
              "4       Not placed  "
            ],
            "text/html": [
              "\n",
              "  <div id=\"df-e69ae670-0a6b-4aeb-94fc-a903c95d4bf8\">\n",
              "    <div class=\"colab-df-container\">\n",
              "      <div>\n",
              "<style scoped>\n",
              "    .dataframe tbody tr th:only-of-type {\n",
              "        vertical-align: middle;\n",
              "    }\n",
              "\n",
              "    .dataframe tbody tr th {\n",
              "        vertical-align: top;\n",
              "    }\n",
              "\n",
              "    .dataframe thead th {\n",
              "        text-align: right;\n",
              "    }\n",
              "</style>\n",
              "<table border=\"1\" class=\"dataframe\">\n",
              "  <thead>\n",
              "    <tr style=\"text-align: right;\">\n",
              "      <th></th>\n",
              "      <th>Roll No</th>\n",
              "      <th>Gender</th>\n",
              "      <th>Section</th>\n",
              "      <th>SSC Percentage</th>\n",
              "      <th>inter_Diploma_percentage</th>\n",
              "      <th>B.Tech_percentage</th>\n",
              "      <th>Backlogs</th>\n",
              "      <th>registered_for_ Placement_Training</th>\n",
              "      <th>placement status</th>\n",
              "    </tr>\n",
              "  </thead>\n",
              "  <tbody>\n",
              "    <tr>\n",
              "      <th>0</th>\n",
              "      <td>1</td>\n",
              "      <td>M</td>\n",
              "      <td>A</td>\n",
              "      <td>87.3</td>\n",
              "      <td>65.3</td>\n",
              "      <td>40.000000</td>\n",
              "      <td>18</td>\n",
              "      <td>NO</td>\n",
              "      <td>Not placed</td>\n",
              "    </tr>\n",
              "    <tr>\n",
              "      <th>1</th>\n",
              "      <td>2</td>\n",
              "      <td>F</td>\n",
              "      <td>A</td>\n",
              "      <td>89.0</td>\n",
              "      <td>92.4</td>\n",
              "      <td>21.200000</td>\n",
              "      <td>0</td>\n",
              "      <td>yes</td>\n",
              "      <td>Placed</td>\n",
              "    </tr>\n",
              "    <tr>\n",
              "      <th>2</th>\n",
              "      <td>3</td>\n",
              "      <td>F</td>\n",
              "      <td>A</td>\n",
              "      <td>67.0</td>\n",
              "      <td>40.2</td>\n",
              "      <td>62.662672</td>\n",
              "      <td>13</td>\n",
              "      <td>yes</td>\n",
              "      <td>Not placed</td>\n",
              "    </tr>\n",
              "    <tr>\n",
              "      <th>3</th>\n",
              "      <td>4</td>\n",
              "      <td>M</td>\n",
              "      <td>A</td>\n",
              "      <td>71.0</td>\n",
              "      <td>70.4</td>\n",
              "      <td>36.470000</td>\n",
              "      <td>17</td>\n",
              "      <td>yes</td>\n",
              "      <td>Not placed</td>\n",
              "    </tr>\n",
              "    <tr>\n",
              "      <th>4</th>\n",
              "      <td>5</td>\n",
              "      <td>M</td>\n",
              "      <td>A</td>\n",
              "      <td>44.0</td>\n",
              "      <td>65.5</td>\n",
              "      <td>42.520000</td>\n",
              "      <td>17</td>\n",
              "      <td>yes</td>\n",
              "      <td>Not placed</td>\n",
              "    </tr>\n",
              "  </tbody>\n",
              "</table>\n",
              "</div>\n",
              "      <button class=\"colab-df-convert\" onclick=\"convertToInteractive('df-e69ae670-0a6b-4aeb-94fc-a903c95d4bf8')\"\n",
              "              title=\"Convert this dataframe to an interactive table.\"\n",
              "              style=\"display:none;\">\n",
              "        \n",
              "  <svg xmlns=\"http://www.w3.org/2000/svg\" height=\"24px\"viewBox=\"0 0 24 24\"\n",
              "       width=\"24px\">\n",
              "    <path d=\"M0 0h24v24H0V0z\" fill=\"none\"/>\n",
              "    <path d=\"M18.56 5.44l.94 2.06.94-2.06 2.06-.94-2.06-.94-.94-2.06-.94 2.06-2.06.94zm-11 1L8.5 8.5l.94-2.06 2.06-.94-2.06-.94L8.5 2.5l-.94 2.06-2.06.94zm10 10l.94 2.06.94-2.06 2.06-.94-2.06-.94-.94-2.06-.94 2.06-2.06.94z\"/><path d=\"M17.41 7.96l-1.37-1.37c-.4-.4-.92-.59-1.43-.59-.52 0-1.04.2-1.43.59L10.3 9.45l-7.72 7.72c-.78.78-.78 2.05 0 2.83L4 21.41c.39.39.9.59 1.41.59.51 0 1.02-.2 1.41-.59l7.78-7.78 2.81-2.81c.8-.78.8-2.07 0-2.86zM5.41 20L4 18.59l7.72-7.72 1.47 1.35L5.41 20z\"/>\n",
              "  </svg>\n",
              "      </button>\n",
              "      \n",
              "  <style>\n",
              "    .colab-df-container {\n",
              "      display:flex;\n",
              "      flex-wrap:wrap;\n",
              "      gap: 12px;\n",
              "    }\n",
              "\n",
              "    .colab-df-convert {\n",
              "      background-color: #E8F0FE;\n",
              "      border: none;\n",
              "      border-radius: 50%;\n",
              "      cursor: pointer;\n",
              "      display: none;\n",
              "      fill: #1967D2;\n",
              "      height: 32px;\n",
              "      padding: 0 0 0 0;\n",
              "      width: 32px;\n",
              "    }\n",
              "\n",
              "    .colab-df-convert:hover {\n",
              "      background-color: #E2EBFA;\n",
              "      box-shadow: 0px 1px 2px rgba(60, 64, 67, 0.3), 0px 1px 3px 1px rgba(60, 64, 67, 0.15);\n",
              "      fill: #174EA6;\n",
              "    }\n",
              "\n",
              "    [theme=dark] .colab-df-convert {\n",
              "      background-color: #3B4455;\n",
              "      fill: #D2E3FC;\n",
              "    }\n",
              "\n",
              "    [theme=dark] .colab-df-convert:hover {\n",
              "      background-color: #434B5C;\n",
              "      box-shadow: 0px 1px 3px 1px rgba(0, 0, 0, 0.15);\n",
              "      filter: drop-shadow(0px 1px 2px rgba(0, 0, 0, 0.3));\n",
              "      fill: #FFFFFF;\n",
              "    }\n",
              "  </style>\n",
              "\n",
              "      <script>\n",
              "        const buttonEl =\n",
              "          document.querySelector('#df-e69ae670-0a6b-4aeb-94fc-a903c95d4bf8 button.colab-df-convert');\n",
              "        buttonEl.style.display =\n",
              "          google.colab.kernel.accessAllowed ? 'block' : 'none';\n",
              "\n",
              "        async function convertToInteractive(key) {\n",
              "          const element = document.querySelector('#df-e69ae670-0a6b-4aeb-94fc-a903c95d4bf8');\n",
              "          const dataTable =\n",
              "            await google.colab.kernel.invokeFunction('convertToInteractive',\n",
              "                                                     [key], {});\n",
              "          if (!dataTable) return;\n",
              "\n",
              "          const docLinkHtml = 'Like what you see? Visit the ' +\n",
              "            '<a target=\"_blank\" href=https://colab.research.google.com/notebooks/data_table.ipynb>data table notebook</a>'\n",
              "            + ' to learn more about interactive tables.';\n",
              "          element.innerHTML = '';\n",
              "          dataTable['output_type'] = 'display_data';\n",
              "          await google.colab.output.renderOutput(dataTable, element);\n",
              "          const docLink = document.createElement('div');\n",
              "          docLink.innerHTML = docLinkHtml;\n",
              "          element.appendChild(docLink);\n",
              "        }\n",
              "      </script>\n",
              "    </div>\n",
              "  </div>\n",
              "  "
            ]
          },
          "metadata": {},
          "execution_count": 18
        }
      ],
      "source": [
        "#Q3 deal with na values\n",
        "df['SSC Percentage']=df['SSC Percentage'].fillna(np.mean(df['SSC Percentage']))\n",
        "df['B.Tech_percentage']=df['B.Tech_percentage'].fillna(np.mean(df['B.Tech_percentage']))\n",
        "df['registered_for_ Placement_Training']=df['registered_for_ Placement_Training'].fillna((df['registered_for_ Placement_Training'].mode()[0]))\n",
        "df.head()"
      ]
    },
    {
      "cell_type": "code",
      "source": [
        "#Q4 find the mean of SCC Percentage\n",
        "'the mean of scc percentage is :'+str(df['SSC Percentage'].mean())"
      ],
      "metadata": {
        "colab": {
          "base_uri": "https://localhost:8080/",
          "height": 35
        },
        "id": "wUiynM4Kxo3F",
        "outputId": "2b13b2a7-d9af-4f0c-9d85-0a06a304ebca"
      },
      "execution_count": 7,
      "outputs": [
        {
          "output_type": "execute_result",
          "data": {
            "text/plain": [
              "'the mean of scc percentage is :80.15336206896552'"
            ],
            "application/vnd.google.colaboratory.intrinsic+json": {
              "type": "string"
            }
          },
          "metadata": {},
          "execution_count": 7
        }
      ]
    },
    {
      "cell_type": "code",
      "source": [
        "df.dtypes"
      ],
      "metadata": {
        "colab": {
          "base_uri": "https://localhost:8080/"
        },
        "id": "DCerQI1XzqaH",
        "outputId": "33e935ae-fe6d-4d1d-ce9b-bc6f8c8efb65"
      },
      "execution_count": 25,
      "outputs": [
        {
          "output_type": "execute_result",
          "data": {
            "text/plain": [
              "Roll No                                 int64\n",
              "Gender                                 object\n",
              "Section                                object\n",
              "SSC Percentage                        float64\n",
              "inter_Diploma_percentage              float64\n",
              "B.Tech_percentage                     float64\n",
              "Backlogs                                int64\n",
              "registered_for_ Placement_Training     object\n",
              "placement status                       object\n",
              "dtype: object"
            ]
          },
          "metadata": {},
          "execution_count": 25
        }
      ]
    },
    {
      "cell_type": "code",
      "source": [
        "df['placement status'].value_counts()"
      ],
      "metadata": {
        "colab": {
          "base_uri": "https://localhost:8080/"
        },
        "id": "Atfho6uTm0vw",
        "outputId": "d9567b6d-6bcb-424b-866a-31f472d0482f"
      },
      "execution_count": 32,
      "outputs": [
        {
          "output_type": "execute_result",
          "data": {
            "text/plain": [
              "Not placed    78\n",
              "Placed        39\n",
              "Name: placement status, dtype: int64"
            ]
          },
          "metadata": {},
          "execution_count": 32
        }
      ]
    },
    {
      "cell_type": "code",
      "source": [
        "df['Gender'].value_counts().keys()"
      ],
      "metadata": {
        "colab": {
          "base_uri": "https://localhost:8080/"
        },
        "id": "yLCGxlxrnPhN",
        "outputId": "8e07fa24-1f47-446c-c5ff-646dfabbe201"
      },
      "execution_count": 44,
      "outputs": [
        {
          "output_type": "execute_result",
          "data": {
            "text/plain": [
              "Index(['M', 'F'], dtype='object')"
            ]
          },
          "metadata": {},
          "execution_count": 44
        }
      ]
    },
    {
      "cell_type": "code",
      "source": [
        "plt.bar(df['Gender'].value_counts().keys(),df['Gender'].value_counts(),color='violet',width=0.4)\n",
        "plt.title('Genders')\n",
        "plt.show()"
      ],
      "metadata": {
        "colab": {
          "base_uri": "https://localhost:8080/",
          "height": 298
        },
        "id": "K38mAIuZnSm5",
        "outputId": "f465dea7-14de-4045-808c-7cb960ae449d"
      },
      "execution_count": 75,
      "outputs": [
        {
          "output_type": "display_data",
          "data": {
            "text/plain": [
              "<Figure size 432x288 with 1 Axes>"
            ],
            "image/png": "[encoded data removed]"
          },
          "metadata": {
            "needs_background": "light"
          }
        },
        {
          "output_type": "display_data",
          "data": {
            "text/plain": [
              "<Figure size 2.16e+08x432 with 0 Axes>"
            ]
          },
          "metadata": {}
        }
      ]
    },
    {
      "cell_type": "code",
      "source": [
        "plt.bar(df['placement status'].value_counts().keys(),df['placement status'].value_counts(),width=0.5)\n",
        "plt.show()"
      ],
      "metadata": {
        "colab": {
          "base_uri": "https://localhost:8080/",
          "height": 265
        },
        "id": "pvNWPYQZqxbp",
        "outputId": "3dd9f164-a45f-4344-d1fb-22020e7c92b6"
      },
      "execution_count": 80,
      "outputs": [
        {
          "output_type": "display_data",
          "data": {
            "text/plain": [
              "<Figure size 432x288 with 1 Axes>"
            ],
            "image/png": "[encoded data removed]"
          },
          "metadata": {
            "needs_background": "light"
          }
        }
      ]
    },
    {
      "cell_type": "code",
      "source": [
        "pd.crosstab(df['Gender'],columns=df['placement status'])"
      ],
      "metadata": {
        "colab": {
          "base_uri": "https://localhost:8080/",
          "height": 143
        },
        "id": "va6a5aa2r-lw",
        "outputId": "12d3e990-ce4f-4efc-a190-de4a3f72d861"
      },
      "execution_count": 86,
      "outputs": [
        {
          "output_type": "execute_result",
          "data": {
            "text/plain": [
              "placement status  Not placed  Placed\n",
              "Gender                              \n",
              "F                         20      29\n",
              "M                         58      10"
            ],
            "text/html": [
              "\n",
              "  <div id=\"df-145fab6e-a544-45d3-874c-b023b7915ab1\">\n",
              "    <div class=\"colab-df-container\">\n",
              "      <div>\n",
              "<style scoped>\n",
              "    .dataframe tbody tr th:only-of-type {\n",
              "        vertical-align: middle;\n",
              "    }\n",
              "\n",
              "    .dataframe tbody tr th {\n",
              "        vertical-align: top;\n",
              "    }\n",
              "\n",
              "    .dataframe thead th {\n",
              "        text-align: right;\n",
              "    }\n",
              "</style>\n",
              "<table border=\"1\" class=\"dataframe\">\n",
              "  <thead>\n",
              "    <tr style=\"text-align: right;\">\n",
              "      <th>placement status</th>\n",
              "      <th>Not placed</th>\n",
              "      <th>Placed</th>\n",
              "    </tr>\n",
              "    <tr>\n",
              "      <th>Gender</th>\n",
              "      <th></th>\n",
              "      <th></th>\n",
              "    </tr>\n",
              "  </thead>\n",
              "  <tbody>\n",
              "    <tr>\n",
              "      <th>F</th>\n",
              "      <td>20</td>\n",
              "      <td>29</td>\n",
              "    </tr>\n",
              "    <tr>\n",
              "      <th>M</th>\n",
              "      <td>58</td>\n",
              "      <td>10</td>\n",
              "    </tr>\n",
              "  </tbody>\n",
              "</table>\n",
              "</div>\n",
              "      <button class=\"colab-df-convert\" onclick=\"convertToInteractive('df-145fab6e-a544-45d3-874c-b023b7915ab1')\"\n",
              "              title=\"Convert this dataframe to an interactive table.\"\n",
              "              style=\"display:none;\">\n",
              "        \n",
              "  <svg xmlns=\"http://www.w3.org/2000/svg\" height=\"24px\"viewBox=\"0 0 24 24\"\n",
              "       width=\"24px\">\n",
              "    <path d=\"M0 0h24v24H0V0z\" fill=\"none\"/>\n",
              "    <path d=\"M18.56 5.44l.94 2.06.94-2.06 2.06-.94-2.06-.94-.94-2.06-.94 2.06-2.06.94zm-11 1L8.5 8.5l.94-2.06 2.06-.94-2.06-.94L8.5 2.5l-.94 2.06-2.06.94zm10 10l.94 2.06.94-2.06 2.06-.94-2.06-.94-.94-2.06-.94 2.06-2.06.94z\"/><path d=\"M17.41 7.96l-1.37-1.37c-.4-.4-.92-.59-1.43-.59-.52 0-1.04.2-1.43.59L10.3 9.45l-7.72 7.72c-.78.78-.78 2.05 0 2.83L4 21.41c.39.39.9.59 1.41.59.51 0 1.02-.2 1.41-.59l7.78-7.78 2.81-2.81c.8-.78.8-2.07 0-2.86zM5.41 20L4 18.59l7.72-7.72 1.47 1.35L5.41 20z\"/>\n",
              "  </svg>\n",
              "      </button>\n",
              "      \n",
              "  <style>\n",
              "    .colab-df-container {\n",
              "      display:flex;\n",
              "      flex-wrap:wrap;\n",
              "      gap: 12px;\n",
              "    }\n",
              "\n",
              "    .colab-df-convert {\n",
              "      background-color: #E8F0FE;\n",
              "      border: none;\n",
              "      border-radius: 50%;\n",
              "      cursor: pointer;\n",
              "      display: none;\n",
              "      fill: #1967D2;\n",
              "      height: 32px;\n",
              "      padding: 0 0 0 0;\n",
              "      width: 32px;\n",
              "    }\n",
              "\n",
              "    .colab-df-convert:hover {\n",
              "      background-color: #E2EBFA;\n",
              "      box-shadow: 0px 1px 2px rgba(60, 64, 67, 0.3), 0px 1px 3px 1px rgba(60, 64, 67, 0.15);\n",
              "      fill: #174EA6;\n",
              "    }\n",
              "\n",
              "    [theme=dark] .colab-df-convert {\n",
              "      background-color: #3B4455;\n",
              "      fill: #D2E3FC;\n",
              "    }\n",
              "\n",
              "    [theme=dark] .colab-df-convert:hover {\n",
              "      background-color: #434B5C;\n",
              "      box-shadow: 0px 1px 3px 1px rgba(0, 0, 0, 0.15);\n",
              "      filter: drop-shadow(0px 1px 2px rgba(0, 0, 0, 0.3));\n",
              "      fill: #FFFFFF;\n",
              "    }\n",
              "  </style>\n",
              "\n",
              "      <script>\n",
              "        const buttonEl =\n",
              "          document.querySelector('#df-145fab6e-a544-45d3-874c-b023b7915ab1 button.colab-df-convert');\n",
              "        buttonEl.style.display =\n",
              "          google.colab.kernel.accessAllowed ? 'block' : 'none';\n",
              "\n",
              "        async function convertToInteractive(key) {\n",
              "          const element = document.querySelector('#df-145fab6e-a544-45d3-874c-b023b7915ab1');\n",
              "          const dataTable =\n",
              "            await google.colab.kernel.invokeFunction('convertToInteractive',\n",
              "                                                     [key], {});\n",
              "          if (!dataTable) return;\n",
              "\n",
              "          const docLinkHtml = 'Like what you see? Visit the ' +\n",
              "            '<a target=\"_blank\" href=https://colab.research.google.com/notebooks/data_table.ipynb>data table notebook</a>'\n",
              "            + ' to learn more about interactive tables.';\n",
              "          element.innerHTML = '';\n",
              "          dataTable['output_type'] = 'display_data';\n",
              "          await google.colab.output.renderOutput(dataTable, element);\n",
              "          const docLink = document.createElement('div');\n",
              "          docLink.innerHTML = docLinkHtml;\n",
              "          element.appendChild(docLink);\n",
              "        }\n",
              "      </script>\n",
              "    </div>\n",
              "  </div>\n",
              "  "
            ]
          },
          "metadata": {},
          "execution_count": 86
        }
      ]
    },
    {
      "cell_type": "code",
      "source": [
        "pd.crosstab(df['Section'],df['placement status'])"
      ],
      "metadata": {
        "colab": {
          "base_uri": "https://localhost:8080/",
          "height": 143
        },
        "id": "RRoJBnUFtBgC",
        "outputId": "20b8a7b3-3baa-4f9f-bea1-35fd14b416b9"
      },
      "execution_count": 92,
      "outputs": [
        {
          "output_type": "execute_result",
          "data": {
            "text/plain": [
              "placement status  Not placed  Placed\n",
              "Section                             \n",
              "A                         37      23\n",
              "B                         41      16"
            ],
            "text/html": [
              "\n",
              "  <div id=\"df-89b7a665-ec30-4348-8979-d59bbb2a2ac7\">\n",
              "    <div class=\"colab-df-container\">\n",
              "      <div>\n",
              "<style scoped>\n",
              "    .dataframe tbody tr th:only-of-type {\n",
              "        vertical-align: middle;\n",
              "    }\n",
              "\n",
              "    .dataframe tbody tr th {\n",
              "        vertical-align: top;\n",
              "    }\n",
              "\n",
              "    .dataframe thead th {\n",
              "        text-align: right;\n",
              "    }\n",
              "</style>\n",
              "<table border=\"1\" class=\"dataframe\">\n",
              "  <thead>\n",
              "    <tr style=\"text-align: right;\">\n",
              "      <th>placement status</th>\n",
              "      <th>Not placed</th>\n",
              "      <th>Placed</th>\n",
              "    </tr>\n",
              "    <tr>\n",
              "      <th>Section</th>\n",
              "      <th></th>\n",
              "      <th></th>\n",
              "    </tr>\n",
              "  </thead>\n",
              "  <tbody>\n",
              "    <tr>\n",
              "      <th>A</th>\n",
              "      <td>37</td>\n",
              "      <td>23</td>\n",
              "    </tr>\n",
              "    <tr>\n",
              "      <th>B</th>\n",
              "      <td>41</td>\n",
              "      <td>16</td>\n",
              "    </tr>\n",
              "  </tbody>\n",
              "</table>\n",
              "</div>\n",
              "      <button class=\"colab-df-convert\" onclick=\"convertToInteractive('df-89b7a665-ec30-4348-8979-d59bbb2a2ac7')\"\n",
              "              title=\"Convert this dataframe to an interactive table.\"\n",
              "              style=\"display:none;\">\n",
              "        \n",
              "  <svg xmlns=\"http://www.w3.org/2000/svg\" height=\"24px\"viewBox=\"0 0 24 24\"\n",
              "       width=\"24px\">\n",
              "    <path d=\"M0 0h24v24H0V0z\" fill=\"none\"/>\n",
              "    <path d=\"M18.56 5.44l.94 2.06.94-2.06 2.06-.94-2.06-.94-.94-2.06-.94 2.06-2.06.94zm-11 1L8.5 8.5l.94-2.06 2.06-.94-2.06-.94L8.5 2.5l-.94 2.06-2.06.94zm10 10l.94 2.06.94-2.06 2.06-.94-2.06-.94-.94-2.06-.94 2.06-2.06.94z\"/><path d=\"M17.41 7.96l-1.37-1.37c-.4-.4-.92-.59-1.43-.59-.52 0-1.04.2-1.43.59L10.3 9.45l-7.72 7.72c-.78.78-.78 2.05 0 2.83L4 21.41c.39.39.9.59 1.41.59.51 0 1.02-.2 1.41-.59l7.78-7.78 2.81-2.81c.8-.78.8-2.07 0-2.86zM5.41 20L4 18.59l7.72-7.72 1.47 1.35L5.41 20z\"/>\n",
              "  </svg>\n",
              "      </button>\n",
              "      \n",
              "  <style>\n",
              "    .colab-df-container {\n",
              "      display:flex;\n",
              "      flex-wrap:wrap;\n",
              "      gap: 12px;\n",
              "    }\n",
              "\n",
              "    .colab-df-convert {\n",
              "      background-color: #E8F0FE;\n",
              "      border: none;\n",
              "      border-radius: 50%;\n",
              "      cursor: pointer;\n",
              "      display: none;\n",
              "      fill: #1967D2;\n",
              "      height: 32px;\n",
              "      padding: 0 0 0 0;\n",
              "      width: 32px;\n",
              "    }\n",
              "\n",
              "    .colab-df-convert:hover {\n",
              "      background-color: #E2EBFA;\n",
              "      box-shadow: 0px 1px 2px rgba(60, 64, 67, 0.3), 0px 1px 3px 1px rgba(60, 64, 67, 0.15);\n",
              "      fill: #174EA6;\n",
              "    }\n",
              "\n",
              "    [theme=dark] .colab-df-convert {\n",
              "      background-color: #3B4455;\n",
              "      fill: #D2E3FC;\n",
              "    }\n",
              "\n",
              "    [theme=dark] .colab-df-convert:hover {\n",
              "      background-color: #434B5C;\n",
              "      box-shadow: 0px 1px 3px 1px rgba(0, 0, 0, 0.15);\n",
              "      filter: drop-shadow(0px 1px 2px rgba(0, 0, 0, 0.3));\n",
              "      fill: #FFFFFF;\n",
              "    }\n",
              "  </style>\n",
              "\n",
              "      <script>\n",
              "        const buttonEl =\n",
              "          document.querySelector('#df-89b7a665-ec30-4348-8979-d59bbb2a2ac7 button.colab-df-convert');\n",
              "        buttonEl.style.display =\n",
              "          google.colab.kernel.accessAllowed ? 'block' : 'none';\n",
              "\n",
              "        async function convertToInteractive(key) {\n",
              "          const element = document.querySelector('#df-89b7a665-ec30-4348-8979-d59bbb2a2ac7');\n",
              "          const dataTable =\n",
              "            await google.colab.kernel.invokeFunction('convertToInteractive',\n",
              "                                                     [key], {});\n",
              "          if (!dataTable) return;\n",
              "\n",
              "          const docLinkHtml = 'Like what you see? Visit the ' +\n",
              "            '<a target=\"_blank\" href=https://colab.research.google.com/notebooks/data_table.ipynb>data table notebook</a>'\n",
              "            + ' to learn more about interactive tables.';\n",
              "          element.innerHTML = '';\n",
              "          dataTable['output_type'] = 'display_data';\n",
              "          await google.colab.output.renderOutput(dataTable, element);\n",
              "          const docLink = document.createElement('div');\n",
              "          docLink.innerHTML = docLinkHtml;\n",
              "          element.appendChild(docLink);\n",
              "        }\n",
              "      </script>\n",
              "    </div>\n",
              "  </div>\n",
              "  "
            ]
          },
          "metadata": {},
          "execution_count": 92
        }
      ]
    },
    {
      "cell_type": "code",
      "source": [
        "pd.pivot_table(df,values='B.Tech_percentage',index='Gender',columns='placement status',aggfunc=np.mean)"
      ],
      "metadata": {
        "colab": {
          "base_uri": "https://localhost:8080/",
          "height": 143
        },
        "id": "AfDUrbqftvEF",
        "outputId": "77d0e90c-1d3a-4c05-ad8d-3e27a8d7830d"
      },
      "execution_count": 94,
      "outputs": [
        {
          "output_type": "execute_result",
          "data": {
            "text/plain": [
              "placement status  Not placed     Placed\n",
              "Gender                                 \n",
              "F                  66.175634  73.531379\n",
              "M                  54.825345  69.574000"
            ],
            "text/html": [
              "\n",
              "  <div id=\"df-02f9f94b-3212-40f0-b5ea-e3799e690848\">\n",
              "    <div class=\"colab-df-container\">\n",
              "      <div>\n",
              "<style scoped>\n",
              "    .dataframe tbody tr th:only-of-type {\n",
              "        vertical-align: middle;\n",
              "    }\n",
              "\n",
              "    .dataframe tbody tr th {\n",
              "        vertical-align: top;\n",
              "    }\n",
              "\n",
              "    .dataframe thead th {\n",
              "        text-align: right;\n",
              "    }\n",
              "</style>\n",
              "<table border=\"1\" class=\"dataframe\">\n",
              "  <thead>\n",
              "    <tr style=\"text-align: right;\">\n",
              "      <th>placement status</th>\n",
              "      <th>Not placed</th>\n",
              "      <th>Placed</th>\n",
              "    </tr>\n",
              "    <tr>\n",
              "      <th>Gender</th>\n",
              "      <th></th>\n",
              "      <th></th>\n",
              "    </tr>\n",
              "  </thead>\n",
              "  <tbody>\n",
              "    <tr>\n",
              "      <th>F</th>\n",
              "      <td>66.175634</td>\n",
              "      <td>73.531379</td>\n",
              "    </tr>\n",
              "    <tr>\n",
              "      <th>M</th>\n",
              "      <td>54.825345</td>\n",
              "      <td>69.574000</td>\n",
              "    </tr>\n",
              "  </tbody>\n",
              "</table>\n",
              "</div>\n",
              "      <button class=\"colab-df-convert\" onclick=\"convertToInteractive('df-02f9f94b-3212-40f0-b5ea-e3799e690848')\"\n",
              "              title=\"Convert this dataframe to an interactive table.\"\n",
              "              style=\"display:none;\">\n",
              "        \n",
              "  <svg xmlns=\"http://www.w3.org/2000/svg\" height=\"24px\"viewBox=\"0 0 24 24\"\n",
              "       width=\"24px\">\n",
              "    <path d=\"M0 0h24v24H0V0z\" fill=\"none\"/>\n",
              "    <path d=\"M18.56 5.44l.94 2.06.94-2.06 2.06-.94-2.06-.94-.94-2.06-.94 2.06-2.06.94zm-11 1L8.5 8.5l.94-2.06 2.06-.94-2.06-.94L8.5 2.5l-.94 2.06-2.06.94zm10 10l.94 2.06.94-2.06 2.06-.94-2.06-.94-.94-2.06-.94 2.06-2.06.94z\"/><path d=\"M17.41 7.96l-1.37-1.37c-.4-.4-.92-.59-1.43-.59-.52 0-1.04.2-1.43.59L10.3 9.45l-7.72 7.72c-.78.78-.78 2.05 0 2.83L4 21.41c.39.39.9.59 1.41.59.51 0 1.02-.2 1.41-.59l7.78-7.78 2.81-2.81c.8-.78.8-2.07 0-2.86zM5.41 20L4 18.59l7.72-7.72 1.47 1.35L5.41 20z\"/>\n",
              "  </svg>\n",
              "      </button>\n",
              "      \n",
              "  <style>\n",
              "    .colab-df-container {\n",
              "      display:flex;\n",
              "      flex-wrap:wrap;\n",
              "      gap: 12px;\n",
              "    }\n",
              "\n",
              "    .colab-df-convert {\n",
              "      background-color: #E8F0FE;\n",
              "      border: none;\n",
              "      border-radius: 50%;\n",
              "      cursor: pointer;\n",
              "      display: none;\n",
              "      fill: #1967D2;\n",
              "      height: 32px;\n",
              "      padding: 0 0 0 0;\n",
              "      width: 32px;\n",
              "    }\n",
              "\n",
              "    .colab-df-convert:hover {\n",
              "      background-color: #E2EBFA;\n",
              "      box-shadow: 0px 1px 2px rgba(60, 64, 67, 0.3), 0px 1px 3px 1px rgba(60, 64, 67, 0.15);\n",
              "      fill: #174EA6;\n",
              "    }\n",
              "\n",
              "    [theme=dark] .colab-df-convert {\n",
              "      background-color: #3B4455;\n",
              "      fill: #D2E3FC;\n",
              "    }\n",
              "\n",
              "    [theme=dark] .colab-df-convert:hover {\n",
              "      background-color: #434B5C;\n",
              "      box-shadow: 0px 1px 3px 1px rgba(0, 0, 0, 0.15);\n",
              "      filter: drop-shadow(0px 1px 2px rgba(0, 0, 0, 0.3));\n",
              "      fill: #FFFFFF;\n",
              "    }\n",
              "  </style>\n",
              "\n",
              "      <script>\n",
              "        const buttonEl =\n",
              "          document.querySelector('#df-02f9f94b-3212-40f0-b5ea-e3799e690848 button.colab-df-convert');\n",
              "        buttonEl.style.display =\n",
              "          google.colab.kernel.accessAllowed ? 'block' : 'none';\n",
              "\n",
              "        async function convertToInteractive(key) {\n",
              "          const element = document.querySelector('#df-02f9f94b-3212-40f0-b5ea-e3799e690848');\n",
              "          const dataTable =\n",
              "            await google.colab.kernel.invokeFunction('convertToInteractive',\n",
              "                                                     [key], {});\n",
              "          if (!dataTable) return;\n",
              "\n",
              "          const docLinkHtml = 'Like what you see? Visit the ' +\n",
              "            '<a target=\"_blank\" href=https://colab.research.google.com/notebooks/data_table.ipynb>data table notebook</a>'\n",
              "            + ' to learn more about interactive tables.';\n",
              "          element.innerHTML = '';\n",
              "          dataTable['output_type'] = 'display_data';\n",
              "          await google.colab.output.renderOutput(dataTable, element);\n",
              "          const docLink = document.createElement('div');\n",
              "          docLink.innerHTML = docLinkHtml;\n",
              "          element.appendChild(docLink);\n",
              "        }\n",
              "      </script>\n",
              "    </div>\n",
              "  </div>\n",
              "  "
            ]
          },
          "metadata": {},
          "execution_count": 94
        }
      ]
    },
    {
      "cell_type": "code",
      "source": [
        "X=df[[\"Gender\",\"Section\",\"SSC Percentage\",\"inter_Diploma_percentage\",\"B.Tech_percentage\",\"Backlogs\",\"registered_for_ Placement_Training\"]].values\n",
        "X"
      ],
      "metadata": {
        "colab": {
          "base_uri": "https://localhost:8080/"
        },
        "id": "hEqG1lJBu5tT",
        "outputId": "91280b5a-1018-4c1e-bcdb-def6cda0ec1f"
      },
      "execution_count": 100,
      "outputs": [
        {
          "output_type": "execute_result",
          "data": {
            "text/plain": [
              "array([['M', 'A', 87.3, 65.3, 40.0, 18, 'NO'],\n",
              "       ['F', 'A', 89.0, 92.4, 21.2, 0, 'yes'],\n",
              "       ['F', 'A', 67.0, 40.2, 62.6626724137931, 13, 'yes'],\n",
              "       ['M', 'A', 71.0, 70.4, 36.47, 17, 'yes'],\n",
              "       ['M', 'A', 44.0, 65.5, 42.52, 17, 'yes'],\n",
              "       ['M', 'A', 80.1533620689655, 68.0, 62.2, 6, 'yes'],\n",
              "       ['M', 'A', 71.0, 56.5, 33.77, 20, 'yes'],\n",
              "       ['F', 'A', 84.83, 79.3, 61.02, 3, 'NO'],\n",
              "       ['M', 'A', 85.0, 89.6, 53.0, 10, 'yes'],\n",
              "       ['M', 'A', 84.0, 75.5, 51.0, 8, 'yes'],\n",
              "       ['F', 'A', 82.33, 76.3, 71.49, 0, 'NO'],\n",
              "       ['M', 'A', 91.0, 66.0, 49.67, 16, 'yes'],\n",
              "       ['M', 'A', 81.33, 60.3, 54.74, 10, 'yes'],\n",
              "       ['F', 'A', 87.1, 88.7, 74.96, 0, 'yes'],\n",
              "       ['M', 'A', 63.1, 52.2, 50.55, 7, 'yes'],\n",
              "       ['F', 'A', 85.83, 86.0, 75.96, 0, 'yes'],\n",
              "       ['F', 'A', 87.0, 85.0, 70.01, 0, 'yes'],\n",
              "       ['F', 'A', 93.66, 95.1, 85.39, 0, 'yes'],\n",
              "       ['F', 'A', 80.66, 86.3, 71.65, 0, 'yes'],\n",
              "       ['M', 'A', 87.83, 93.6, 74.34, 0, 'yes'],\n",
              "       ['M', 'A', 83.83, 90.3, 76.9, 0, 'yes'],\n",
              "       ['M', 'A', 77.5, 83.9, 73.01, 0, 'yes'],\n",
              "       ['F', 'A', 80.3, 83.0, 68.3, 0, 'yes'],\n",
              "       ['M', 'A', 90.5, 90.4, 70.3, 0, 'NO'],\n",
              "       ['M', 'A', 86.16, 87.2, 54.18, 9, 'yes'],\n",
              "       ['M', 'A', 74.5, 78.3, 55.82, 9, 'yes'],\n",
              "       ['M', 'A', 87.1, 81.0, 61.0, 0, 'yes'],\n",
              "       ['M', 'A', 55.66, 65.3, 38.0, 25, 'yes'],\n",
              "       ['F', 'A', 64.3, 67.1, 64.36, 1, 'yes'],\n",
              "       ['M', 'A', 72.0, 88.1, 69.6, 0, 'yes'],\n",
              "       ['F', 'A', 87.33, 96.5, 74.25, 0, 'yes'],\n",
              "       ['M', 'A', 72.17, 77.7, 58.0, 5, 'yes'],\n",
              "       ['F', 'A', 79.0, 88.9, 71.94, 0, 'yes'],\n",
              "       ['M', 'A', 76.0, 80.1, 42.0, 19, 'yes'],\n",
              "       ['F', 'A', 86.6, 78.4, 65.7, 1, 'yes'],\n",
              "       ['M', 'A', 87.33, 90.0, 68.7, 0, 'yes'],\n",
              "       ['M', 'A', 82.0, 91.4, 75.42, 0, 'yes'],\n",
              "       ['F', 'A', 91.0, 94.3, 72.68, 0, 'yes'],\n",
              "       ['M', 'A', 74.0, 76.8, 51.0, 14, 'yes'],\n",
              "       ['M', 'A', 83.5, 88.8, 67.5, 0, 'yes'],\n",
              "       ['M', 'A', 88.16, 91.4, 72.74, 0, 'yes'],\n",
              "       ['F', 'A', 75.33, 61.2, 58.67, 4, 'yes'],\n",
              "       ['M', 'A', 81.1, 67.5, 45.45, 14, 'yes'],\n",
              "       ['M', 'A', 86.0, 92.5, 70.85, 0, 'yes'],\n",
              "       ['F', 'A', 82.3, 83.7, 69.48, 0, 'yes'],\n",
              "       ['F', 'A', 87.5, 84.4, 72.57, 0, 'yes'],\n",
              "       ['F', 'A', 83.5, 76.9, 59.53, 3, 'yes'],\n",
              "       ['M', 'A', 77.16, 89.1, 67.06, 0, 'yes'],\n",
              "       ['M', 'A', 66.16, 77.2, 52.09, 8, 'yes'],\n",
              "       ['F', 'A', 85.33, 93.8, 77.5, 1, 'yes'],\n",
              "       ['F', 'A', 87.42, 92.2, 78.0, 0, 'yes'],\n",
              "       ['M', 'A', 79.0, 79.0, 55.49, 7, 'yes'],\n",
              "       ['M', 'A', 82.9, 73.4, 52.0, 9, 'yes'],\n",
              "       ['M', 'A', 72.0, 84.5, 67.21, 0, 'yes'],\n",
              "       ['M', 'A', 85.5, 83.6, 60.35, 3, 'yes'],\n",
              "       ['F', 'A', 87.33, 92.0, 70.85, 0, 'NO'],\n",
              "       ['M', 'A', 64.0, 56.7, 31.2, 22, 'yes'],\n",
              "       ['M', 'A', 72.5, 67.8, 52.31, 5, 'yes'],\n",
              "       ['F', 'A', 90.3, 93.7, 77.95, 0, 'yes'],\n",
              "       ['F', 'A', 90.66, 94.7, 81.1, 0, 'yes'],\n",
              "       ['F', 'B', 81.83, 85.6, 60.72, 6, 'NO'],\n",
              "       ['F', 'B', 85.33, 91.2, 74.3, 0, 'NO'],\n",
              "       ['M', 'B', 77.33, 76.5, 52.0, 7, 'NO'],\n",
              "       ['M', 'B', 79.6, 69.2, 49.68, 20, 'yes'],\n",
              "       ['F', 'B', 86.0, 94.2, 78.6, 0, 'NO'],\n",
              "       ['F', 'B', 90.0, 91.6, 72.4, 0, 'yes'],\n",
              "       ['F', 'B', 83.66, 90.4, 72.47, 0, 'yes'],\n",
              "       ['F', 'B', 86.66, 89.9, 75.13, 0, 'yes'],\n",
              "       ['M', 'B', 85.0, 61.0, 52.56, 6, 'NO'],\n",
              "       ['M', 'B', 47.8, 52.4, 44.73, 22, 'NO'],\n",
              "       ['F', 'B', 90.33, 95.6, 80.47, 0, 'yes'],\n",
              "       ['M', 'B', 79.0, 93.0, 59.0, 2, 'yes'],\n",
              "       ['F', 'B', 81.83, 83.7, 68.9, 0, 'yes'],\n",
              "       ['M', 'B', 88.16, 80.1, 63.41, 1, 'NO'],\n",
              "       ['F', 'B', 75.5, 81.7, 73.13, 0, 'yes'],\n",
              "       ['M', 'B', 78.6, 87.8, 56.88, 10, 'yes'],\n",
              "       ['M', 'B', 78.0, 59.0, 51.06, 17, 'NO'],\n",
              "       ['F', 'B', 74.16, 91.7, 73.09, 1, 'NO'],\n",
              "       ['F', 'B', 89.0, 86.0, 65.6, 0, 'NO'],\n",
              "       ['M', 'B', 70.0, 81.0, 57.75, 3, 'NO'],\n",
              "       ['M', 'B', 86.0, 91.9, 62.16, 2, 'NO'],\n",
              "       ['F', 'B', 84.84, 91.6, 70.09, 0, 'NO'],\n",
              "       ['M', 'B', 83.66, 90.5, 57.8, 2, 'NO'],\n",
              "       ['M', 'B', 89.0, 88.9, 63.0, 1, 'NO'],\n",
              "       ['F', 'B', 74.0, 88.4, 76.02, 0, 'NO'],\n",
              "       ['F', 'B', 87.33, 83.8, 69.48, 0, 'NO'],\n",
              "       ['F', 'B', 50.66, 54.2, 60.53, 1, 'NO'],\n",
              "       ['M', 'B', 82.0, 73.6, 42.0, 11, 'NO'],\n",
              "       ['M', 'B', 65.3, 77.7, 62.99, 1, 'NO'],\n",
              "       ['F', 'B', 83.0, 83.0, 62.97, 1, 'NO'],\n",
              "       ['M', 'B', 60.83, 80.2, 54.0, 5, 'NO'],\n",
              "       ['M', 'B', 83.16, 79.9, 68.7, 0, 'NO'],\n",
              "       ['M', 'B', 88.1, 89.1, 61.68, 0, 'yes'],\n",
              "       ['M', 'B', 72.0, 81.0, 51.0, 10, 'NO'],\n",
              "       ['M', 'B', 89.33, 88.6, 69.62, 0, 'NO'],\n",
              "       ['F', 'B', 79.33, 61.1, 62.98, 0, 'NO'],\n",
              "       ['F', 'B', 92.33, 96.9, 88.1, 0, 'yes'],\n",
              "       ['F', 'B', 76.83, 80.4, 72.73, 0, 'yes'],\n",
              "       ['F', 'B', 88.3, 93.9, 78.6, 0, 'NO'],\n",
              "       ['F', 'B', 82.83, 84.1, 72.57, 0, 'yes'],\n",
              "       ['F', 'B', 79.83, 64.2, 65.46, 0, 'NO'],\n",
              "       ['F', 'B', 82.66, 89.6, 83.38, 0, 'NO'],\n",
              "       ['F', 'B', 92.66, 93.7, 76.35, 0, 'NO'],\n",
              "       ['M', 'B', 88.0, 67.9, 53.26, 9, 'NO'],\n",
              "       ['F', 'B', 68.16, 62.6, 64.63, 0, 'NO'],\n",
              "       ['M', 'B', 84.1, 73.0, 57.3, 0, 'NO'],\n",
              "       ['M', 'B', 74.5, 69.6, 56.89, 2, 'NO'],\n",
              "       ['M', 'B', 83.0, 81.01, 58.0, 1, 'NO'],\n",
              "       ['M', 'B', 62.0, 70.91, 55.7, 2, 'NO'],\n",
              "       ['M', 'B', 81.0, 73.0, 42.17, 15, 'NO'],\n",
              "       ['M', 'B', 82.3, 75.13, 54.16, 2, 'NO'],\n",
              "       ['M', 'B', 63.66, 69.0, 61.0, 1, 'NO'],\n",
              "       ['M', 'B', 81.1, 78.6, 35.84, 16, 'NO'],\n",
              "       ['M', 'B', 81.3, 85.12, 68.5, 0, 'NO'],\n",
              "       ['M', 'B', 83.5, 89.9, 76.3, 0, 'NO'],\n",
              "       ['M', 'B', 85.5, 90.63, 74.5, 0, 'NO'],\n",
              "       ['M', 'B', 80.0, 83.33, 65.53, 0, 'NO']], dtype=object)"
            ]
          },
          "metadata": {},
          "execution_count": 100
        }
      ]
    },
    {
      "cell_type": "code",
      "source": [
        "Y=df['placement status']"
      ],
      "metadata": {
        "id": "e3NfAPu6x1pd"
      },
      "execution_count": 101,
      "outputs": []
    },
    {
      "cell_type": "code",
      "source": [
        "x_train,x_test,y_train,y_test=train_test_split(X,Y,test_size=0.2,random_state=10)"
      ],
      "metadata": {
        "id": "QnN4GDiVx6p6"
      },
      "execution_count": 137,
      "outputs": []
    },
    {
      "cell_type": "code",
      "source": [
        "x_train.shape"
      ],
      "metadata": {
        "colab": {
          "base_uri": "https://localhost:8080/"
        },
        "id": "oM0djvqkyJ8M",
        "outputId": "cd35d1ce-894d-4938-db1b-b48322257762"
      },
      "execution_count": 140,
      "outputs": [
        {
          "output_type": "execute_result",
          "data": {
            "text/plain": [
              "(93, 7)"
            ]
          },
          "metadata": {},
          "execution_count": 140
        }
      ]
    },
    {
      "cell_type": "code",
      "source": [],
      "metadata": {
        "id": "BAdZcOSe0taF"
      },
      "execution_count": null,
      "outputs": []
    }
  ],
  "metadata": {
    "colab": {
      "provenance": [],
      "mount_file_id": "https://github.com/21pa1a6128/DWM-lab/blob/main/operations_on_dataset.ipynb",
      "authorship_tag": "ABX9TyN2+FpU1GfDh60eCdlOkTEy",
      "include_colab_link": true
    },
    "kernelspec": {
      "display_name": "Python 3",
      "name": "python3"
    },
    "language_info": {
      "name": "python"
    }
  },
  "nbformat": 4,
  "nbformat_minor": 0
}