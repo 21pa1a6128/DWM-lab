{
  "nbformat": 4,
  "nbformat_minor": 0,
  "metadata": {
    "colab": {
      "provenance": [],
      "authorship_tag": "ABX9TyMAVNKKPWSGhaxq89nID12e",
      "include_colab_link": true
    },
    "kernelspec": {
      "name": "python3",
      "display_name": "Python 3"
    },
    "language_info": {
      "name": "python"
    }
  },
  "cells": [
    {
      "cell_type": "markdown",
      "metadata": {
        "id": "view-in-github",
        "colab_type": "text"
      },
      "source": [
        "<a href=\"https://colab.research.google.com/github/21pa1a6128/DWM-lab/blob/main/numpy.ipynb\" target=\"_parent\"><img src=\"https://colab.research.google.com/assets/colab-badge.svg\" alt=\"Open In Colab\"/></a>"
      ]
    },
    {
      "cell_type": "code",
      "execution_count": 15,
      "metadata": {
        "id": "PqyUxG5uhIYo"
      },
      "outputs": [],
      "source": [
        "import numpy as np"
      ]
    },
    {
      "cell_type": "code",
      "source": [
        "x=np.array([1,2,3,4])"
      ],
      "metadata": {
        "id": "S42otu4dhKLd"
      },
      "execution_count": 16,
      "outputs": []
    },
    {
      "cell_type": "code",
      "source": [
        "x"
      ],
      "metadata": {
        "colab": {
          "base_uri": "https://localhost:8080/"
        },
        "id": "iG8rgwwChMWc",
        "outputId": "41eb273b-14b0-4e02-b035-df3a7482f788"
      },
      "execution_count": 17,
      "outputs": [
        {
          "output_type": "execute_result",
          "data": {
            "text/plain": [
              "array([1, 2, 3, 4])"
            ]
          },
          "metadata": {},
          "execution_count": 17
        }
      ]
    },
    {
      "cell_type": "code",
      "source": [
        "y=np.append(x,[5,6,7])\n",
        "y"
      ],
      "metadata": {
        "id": "2QAHrPIKhM58",
        "outputId": "44c75ef6-e6ca-40df-ae0f-c0ff7a454b18",
        "colab": {
          "base_uri": "https://localhost:8080/"
        }
      },
      "execution_count": 18,
      "outputs": [
        {
          "output_type": "execute_result",
          "data": {
            "text/plain": [
              "array([1, 2, 3, 4, 5, 6, 7])"
            ]
          },
          "metadata": {},
          "execution_count": 18
        }
      ]
    },
    {
      "cell_type": "code",
      "source": [
        "x=np.delete(x,1)\n",
        "x"
      ],
      "metadata": {
        "id": "JVlfAV5UiBA0",
        "outputId": "a7c81825-c204-478c-e59c-145baa73f284",
        "colab": {
          "base_uri": "https://localhost:8080/"
        }
      },
      "execution_count": 19,
      "outputs": [
        {
          "output_type": "execute_result",
          "data": {
            "text/plain": [
              "array([2, 3, 4])"
            ]
          },
          "metadata": {},
          "execution_count": 19
        }
      ]
    },
    {
      "cell_type": "code",
      "source": [
        "x=np.append(1,x)\n",
        "x"
      ],
      "metadata": {
        "id": "OdS9s6PlY4jP",
        "outputId": "d1b793f6-275d-46a2-b34d-f51a7395dedd",
        "colab": {
          "base_uri": "https://localhost:8080/"
        }
      },
      "execution_count": 21,
      "outputs": [
        {
          "output_type": "execute_result",
          "data": {
            "text/plain": [
              "array([1, 1, 2, 3, 4])"
            ]
          },
          "metadata": {},
          "execution_count": 21
        }
      ]
    },
    {
      "cell_type": "code",
      "source": [
        "arr=np.arange(0,50,10)\n",
        "arr"
      ],
      "metadata": {
        "id": "Dz13mNU0ZMMp",
        "outputId": "9e5c2abb-d98d-4aaf-b5e8-80e179a97e00",
        "colab": {
          "base_uri": "https://localhost:8080/"
        }
      },
      "execution_count": 23,
      "outputs": [
        {
          "output_type": "execute_result",
          "data": {
            "text/plain": [
              "array([ 0, 10, 20, 30, 40])"
            ]
          },
          "metadata": {},
          "execution_count": 23
        }
      ]
    },
    {
      "cell_type": "code",
      "source": [
        "arr[arr<20]=50"
      ],
      "metadata": {
        "id": "Hn-wTSeIZSSx"
      },
      "execution_count": 24,
      "outputs": []
    },
    {
      "cell_type": "code",
      "source": [
        "arr"
      ],
      "metadata": {
        "id": "CH6bOyoRZg-P",
        "outputId": "de6ba0a0-e79c-4870-e78b-56f3efbb6623",
        "colab": {
          "base_uri": "https://localhost:8080/"
        }
      },
      "execution_count": 25,
      "outputs": [
        {
          "output_type": "execute_result",
          "data": {
            "text/plain": [
              "array([50, 50, 20, 30, 40])"
            ]
          },
          "metadata": {},
          "execution_count": 25
        }
      ]
    },
    {
      "cell_type": "code",
      "source": [
        "print(x)\n",
        "print(y)\n",
        "print(arr)\n",
        "print(\"x plus arr\",x+arr)\n",
        "# print(\"y plus arr\",y+arr) both numpy lists shape must be equal to perfom this operation"
      ],
      "metadata": {
        "id": "qlgIEyl9ZhcP",
        "outputId": "43986845-d4ae-4730-c3b7-760e1c05891c",
        "colab": {
          "base_uri": "https://localhost:8080/"
        }
      },
      "execution_count": 30,
      "outputs": [
        {
          "output_type": "stream",
          "name": "stdout",
          "text": [
            "[1 1 2 3 4]\n",
            "[1 2 3 4 5 6 7]\n",
            "[50 50 20 30 40]\n",
            "x plus arr [51 51 22 33 44]\n"
          ]
        }
      ]
    },
    {
      "cell_type": "code",
      "source": [
        "# slicing 2d arrays\n",
        "arr1=np.arange(1,13)\n",
        "arr1=arr1.reshape(4,3)\n",
        "print(arr1)\n",
        "arr1[1:4]"
      ],
      "metadata": {
        "id": "7lWdnCsGZlmY",
        "outputId": "68ac9bef-b549-438a-9ec7-4686dfba1f54",
        "colab": {
          "base_uri": "https://localhost:8080/"
        }
      },
      "execution_count": 40,
      "outputs": [
        {
          "output_type": "stream",
          "name": "stdout",
          "text": [
            "[[ 1  2  3]\n",
            " [ 4  5  6]\n",
            " [ 7  8  9]\n",
            " [10 11 12]]\n"
          ]
        },
        {
          "output_type": "execute_result",
          "data": {
            "text/plain": [
              "array([[ 4,  5,  6],\n",
              "       [ 7,  8,  9],\n",
              "       [10, 11, 12]])"
            ]
          },
          "metadata": {},
          "execution_count": 40
        }
      ]
    },
    {
      "cell_type": "code",
      "source": [
        "arr1.T"
      ],
      "metadata": {
        "id": "3ohJ6GXLbRl1",
        "outputId": "5ab6dd5d-fb2b-4599-de84-72f6a6897df3",
        "colab": {
          "base_uri": "https://localhost:8080/"
        }
      },
      "execution_count": 45,
      "outputs": [
        {
          "output_type": "execute_result",
          "data": {
            "text/plain": [
              "array([[ 1,  4,  7, 10],\n",
              "       [ 2,  5,  8, 11],\n",
              "       [ 3,  6,  9, 12]])"
            ]
          },
          "metadata": {},
          "execution_count": 45
        }
      ]
    }
  ]
}